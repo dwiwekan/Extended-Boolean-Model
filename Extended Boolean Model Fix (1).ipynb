{
 "cells": [
  {
   "cell_type": "code",
   "execution_count": 1,
   "metadata": {},
   "outputs": [],
   "source": [
    "# ============== Extended Boolean Model ================\n",
    "\n",
    "# ============= NEW TF-IDF ===============#\n",
    "a = \"algoritma Genetik tidak dapat digunakan untuk optimasi fuzzy\".split()\n",
    "b = \"optimasi fungsi keanggotaan pada fuzzy\".split()\n",
    "c = \"algoritma genetik merupakan algoritma learning\".split()\n",
    "\n",
    "query = \"algoritma genetik\".split()"
   ]
  },
  {
   "cell_type": "code",
   "execution_count": 2,
   "metadata": {},
   "outputs": [],
   "source": [
    "import numpy as np\n",
    "\n",
    "# we'll merge all docs into a list of lists for easier calculations below\n",
    "docs = [a, b, c]\n",
    "\n",
    "def tfidf(word, sentence):\n",
    "    # term frequency\n",
    "    tf = sentence.count(word) / len(sentence)\n",
    "    # inverse document frequency\n",
    "    idf = np.log10(len(docs) / sum([1 for doc in docs if word in doc]))\n",
    "    return round(tf*idf, 4)"
   ]
  },
  {
   "cell_type": "code",
   "execution_count": 3,
   "metadata": {},
   "outputs": [
    {
     "name": "stdout",
     "output_type": "stream",
     "text": [
      "range(0, 2)\n",
      "range(0, 3)\n",
      "Weight pada dokumen 1 : [0.022 , 0.0]\n",
      "Weight pada dokumen 2 : [0.0 , 0.0]\n",
      "Weight pada dokumen 3 : [0.0704 , 0.0954]\n",
      "[[0.022, 0.0], [0.0, 0.0], [0.0704, 0.0954]]\n"
     ]
    }
   ],
   "source": [
    "print(range(len(query)))\n",
    "\n",
    "print(range(len(docs)))\n",
    "weight_fill = []\n",
    "for x in range(len(docs)):\n",
    "    weight_number = []\n",
    "    for y in range(len(query)):\n",
    "        weight = tfidf(query[y],docs[x])\n",
    "        weight_number.append(weight)\n",
    "\n",
    "    weight_fill.append(weight_number)\n",
    "    print(\"Weight pada dokumen {} : [{} , {}]\".format(x+1,weight_fill[x][0],weight_fill[x][1]))\n",
    "    \n",
    "print(weight_fill)"
   ]
  },
  {
   "cell_type": "code",
   "execution_count": 4,
   "metadata": {},
   "outputs": [
    {
     "name": "stdout",
     "output_type": "stream",
     "text": [
      "Dokumen 1 : Not Qualified\n",
      "===========\n",
      "Dokumen 2 : Not Qualified\n",
      "===========\n",
      "Dokumen 3 : Qualified\n",
      "Rumus Similarity : 1 - ( ( 1 - 0.8642 )^2 + ( 1 - 0.8183 )^2 )/2)^0.5\n",
      "Similarity : 0.0828\n",
      "========\n",
      "Ranking\n",
      "3 : [0.0828]\n"
     ]
    }
   ],
   "source": [
    "# ============== Conjuctive Queries ===================\n",
    "ranking = []\n",
    "for x in range(len(docs)):\n",
    "    if weight_fill[x][0] > 0 and weight_fill[x][1] > 0:\n",
    "        print(\"Dokumen {} : Qualified\".format(x+1))\n",
    "        weight_1 = pow((1-weight_fill[x][0]),2)\n",
    "        weight_2 = pow((1-weight_fill[x][1]),2)\n",
    "        sim = 1 - (pow((weight_1+weight_2)/2,0.5))\n",
    "        print(\"Rumus Similarity : 1 - ( ( 1 - {} )^2 + ( 1 - {} )^2 )/2)^0.5\".format(round((weight_1),4),round((weight_2),4)))\n",
    "        print(\"Similarity : {}\".format(round((sim),4)))\n",
    "        print(\"========\")\n",
    "        ranking.append([x,sim])\n",
    "        \n",
    "        \n",
    "    else:\n",
    "        print(\"Dokumen {} : Not Qualified\".format(x+1))\n",
    "        print(\"===========\")\n",
    "        \n",
    "        \n",
    "ranking.sort(key=lambda row: (row[1]),reverse=True)\n",
    "\n",
    "increaseNo = 0\n",
    "print('Ranking')\n",
    "for file in ranking:\n",
    "    print('{} : [{}]'.format(round(ranking[increaseNo][0],4)+1,round(ranking[increaseNo][1],4)))\n",
    "    increaseNo+=1\n"
   ]
  },
  {
   "cell_type": "code",
   "execution_count": 5,
   "metadata": {},
   "outputs": [
    {
     "name": "stdout",
     "output_type": "stream",
     "text": [
      "Dokumen 1 : Qualified\n",
      "Rumus Similarity : ( ( 1 + 0.0005 ) + ( 1 - 1.0 ) )/2)^0.5\n",
      "Similarity : 0.7073\n",
      "========\n",
      "Dokumen 2 : Not Qualified\n",
      "==========\n",
      "Dokumen 3 : Qualified\n",
      "Rumus Similarity : ( ( 1 + 0.005 ) + ( 1 - 0.8183 ) )/2)^0.5\n",
      "Similarity : 0.6416\n",
      "========\n",
      "Ranking\n",
      "1 : [0.7073]\n",
      "3 : [0.6416]\n"
     ]
    }
   ],
   "source": [
    "# =============== Disjunctive queries =============\n",
    "ranking = []\n",
    "for x in range(len(docs)):\n",
    "    if weight_fill[x][0] > 0 or weight_fill[x][1] > 0:\n",
    "        print(\"Dokumen {} : Qualified\".format(x+1))\n",
    "        weight_1 = pow((weight_fill[x][0]),2)\n",
    "        weight_2 = pow((1-weight_fill[x][1]),2)\n",
    "        sim = (pow((weight_1+weight_2)/2,0.5))\n",
    "        print(\"Rumus Similarity : ( ( 1 + {} ) + ( 1 - {} ) )/2)^0.5\".format(round((weight_1),4),round((weight_2),4)))\n",
    "        print(\"Similarity : {}\".format(round((sim),4)))\n",
    "        print(\"========\")\n",
    "        ranking.append([x,sim])\n",
    "        \n",
    "    else:\n",
    "        print(\"Dokumen {} : Not Qualified\".format(x+1))\n",
    "        print(\"==========\")\n",
    "        \n",
    "        \n",
    "ranking.sort(key=lambda row: (row[1]),reverse=True)\n",
    "\n",
    "increaseNo = 0\n",
    "print('Ranking')\n",
    "for file in ranking:\n",
    "    print('{} : [{}]'.format(round(ranking[increaseNo][0],4)+1,round(ranking[increaseNo][1],4)))\n",
    "    increaseNo+=1"
   ]
  },
  {
   "cell_type": "code",
   "execution_count": null,
   "metadata": {},
   "outputs": [],
   "source": []
  }
 ],
 "metadata": {
  "kernelspec": {
   "display_name": "Python 3",
   "language": "python",
   "name": "python3"
  },
  "language_info": {
   "codemirror_mode": {
    "name": "ipython",
    "version": 3
   },
   "file_extension": ".py",
   "mimetype": "text/x-python",
   "name": "python",
   "nbconvert_exporter": "python",
   "pygments_lexer": "ipython3",
   "version": "3.9.7"
  }
 },
 "nbformat": 4,
 "nbformat_minor": 4
}

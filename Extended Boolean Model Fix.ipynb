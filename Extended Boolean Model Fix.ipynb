{
 "cells": [
  {
   "cell_type": "code",
   "execution_count": 1,
   "metadata": {},
   "outputs": [],
   "source": [
    "# ============== Extended Boolean Model ================\n",
    "# Pada query harus ada \"and\" atau \"or\" untuk menentukannya.\n",
    "# Inverted index / incident matrix seharusnya diperlukan, namun sebenarnya cara seperti ini juga tidak salah\n",
    "\n",
    "\n",
    "# ============= NEW TF-IDF ===============#\n",
    "a = \"algoritma Genetik tidak dapat digunakan untuk optimasi fuzzy\".split()\n",
    "b = \"optimasi fungsi genetik keanggotaan pada algoritma fuzzy\".split()\n",
    "c = \"algoritma genetik merupakan algoritma learning fuzzy\".split()\n",
    "d = \"algoritma genetik\"\n",
    "\n",
    "query = \"algoritma  fuzzy genetik\".split()"
   ]
  },
  {
   "cell_type": "code",
   "execution_count": 2,
   "metadata": {},
   "outputs": [
    {
     "name": "stdout",
     "output_type": "stream",
     "text": [
      "['algoritma', 'Genetik', 'tidak', 'dapat', 'digunakan', 'untuk', 'optimasi', 'fuzzy']\n"
     ]
    }
   ],
   "source": [
    "import numpy as np\n",
    "\n",
    "# merege all document yang udah di input\n",
    "docs = [a, b, c, d]\n",
    "\n",
    "def tfidf(word, sentence):\n",
    "    # term frequency\n",
    "    tf = sentence.count(word) / len(sentence)\n",
    "    # inverse document frequency\n",
    "    idf = np.log10(len(docs) / sum([1 for doc in docs if word in doc]))\n",
    "    return round(tf*idf, 4)\n",
    "\n",
    "print(docs[0])"
   ]
  },
  {
   "cell_type": "code",
   "execution_count": 3,
   "metadata": {},
   "outputs": [
    {
     "name": "stdout",
     "output_type": "stream",
     "text": [
      "Weight pada dokumen 1 : [0.0 , 0.0156]\n",
      "Weight pada dokumen 2 : [0.0 , 0.0178]\n",
      "Weight pada dokumen 3 : [0.0 , 0.0208]\n",
      "Weight pada dokumen 4 : [0.0 , 0.0]\n",
      "[[0.0, 0.0156, 0.0], [0.0, 0.0178, 0.0178], [0.0, 0.0208, 0.0208], [0.0, 0.0, 0.0073]]\n"
     ]
    }
   ],
   "source": [
    "weight_fill = []\n",
    "for x in range(len(docs)):\n",
    "    weight_number = []\n",
    "    for y in range(len(query)):\n",
    "        weight = tfidf(query[y],docs[x])\n",
    "        weight_number.append(weight)\n",
    "\n",
    "    weight_fill.append(weight_number)\n",
    "    print(\"Weight pada dokumen {} : [{} , {}]\".format(x+1,weight_fill[x][0],weight_fill[x][1]))\n",
    "    \n",
    "print(weight_fill)"
   ]
  },
  {
   "cell_type": "code",
   "execution_count": null,
   "metadata": {},
   "outputs": [],
   "source": [
    "# ============== Conjuctive Queries ===================\n",
    "text = input(\"Kata hubung(and atau or): \")\n",
    "if text == \"and\":\n",
    "    print(\"=========================================== Conjuctive Queries ===========================================\")\n",
    "\n",
    "    ranking = []\n",
    "    for x in range(len(docs)):\n",
    "        if weight_fill[x][0] > 0 and weight_fill[x][1] > 0:\n",
    "            print(\"===================\")\n",
    "            print(\"Dokumen text : {}\".format(' '.join(docs[x])))\n",
    "            print(\"Dokumen {} : Qualified\".format(x+1))\n",
    "            weight_1 = pow((1-weight_fill[x][0]),2)\n",
    "            weight_2 = pow((1-weight_fill[x][1]),2)\n",
    "            sim = 1 - (pow((weight_1+weight_2)/2,0.5))\n",
    "            print(\"Rumus Similarity : 1 - ( ( 1 - {} )^2 + ( 1 - {} )^2 )/2)^0.5\".format(round((weight_1),4),round((weight_2),4)))\n",
    "            print(\"Similarity : {}\".format(round((sim),4)))\n",
    "            print(\"===================\")\n",
    "            ranking.append([x,sim])\n",
    "\n",
    "\n",
    "        else:\n",
    "            print(\"===================\")\n",
    "            print(\"Dokumen text : {}\".format(' '.join(docs[x])))\n",
    "            print(\"Dokumen {} : Not Qualified\".format(x+1))\n",
    "            print(\"===================\")\n",
    "        print(\"\\n\")\n",
    "\n",
    "\n",
    "    ranking.sort(key=lambda row: (row[1]),reverse=True)\n",
    "\n",
    "    increaseNo = 0\n",
    "    print('Ranking')\n",
    "    for file in ranking:\n",
    "        print('{}. Dokumen ke-{} : [{}]'.format(increaseNo+1,round(ranking[increaseNo][0],4)+1,round(ranking[increaseNo][1],4)))\n",
    "        increaseNo+=1\n",
    "elif text == \"or\":\n",
    "    # =============== Disjunctive queries =============\n",
    "    ranking = []\n",
    "    print(\"=========================================== Disjunctive queries ===========================================\")\n",
    "    for x in range(len(docs)):\n",
    "        if weight_fill[x][0] > 0 or weight_fill[x][1] > 0:\n",
    "            print(\"===================\")\n",
    "            print(\"Dokumen {} : Qualified\".format(x+1))\n",
    "            weight_1 = pow((weight_fill[x][0]),2)\n",
    "            weight_2 = pow((1-weight_fill[x][1]),2)\n",
    "            sim = (pow((weight_1+weight_2)/2,0.5))\n",
    "            print(\"Rumus Similarity : ( ( 1 + {} ) + ( 1 - {} ) )/2)^0.5\".format(round((weight_1),4),round((weight_2),4)))\n",
    "            print(\"Similarity : {}\".format(round((sim),4)))\n",
    "            print(\"===================\")\n",
    "            ranking.append([x,sim])\n",
    "\n",
    "        else:\n",
    "            print(\"===================\")\n",
    "            print(\"Dokumen {} : Not Qualified\".format(x+1))\n",
    "            print(\"===================\")\n",
    "\n",
    "        print(\"\\n\")\n",
    "\n",
    "    ranking.sort(key=lambda row: (row[1]),reverse=True)\n",
    "\n",
    "    increaseNo = 0\n",
    "    print('Ranking')\n",
    "    for file in ranking:\n",
    "        print('{}.Dokumen ke-{} : [{}]'.format(increaseNo+1,round(ranking[increaseNo][0],4)+1,round(ranking[increaseNo][1],4)))\n",
    "        increaseNo+=1\n",
    "        \n",
    "else :\n",
    "    print(\"Konjungsi kata salah\")\n"
   ]
  },
  {
   "cell_type": "code",
   "execution_count": null,
   "metadata": {},
   "outputs": [],
   "source": [
    "# # =============== Disjunctive queries =============\n",
    "# ranking = []\n",
    "# print(\"=========================================== Disjunctive queries ===========================================\")\n",
    "# for x in range(len(docs)):\n",
    "#     if weight_fill[x][0] > 0 or weight_fill[x][1] > 0:\n",
    "#         print(\"===================\")\n",
    "#         print(\"Dokumen {} : Qualified\".format(x+1))\n",
    "#         weight_1 = pow((weight_fill[x][0]),2)\n",
    "#         weight_2 = pow((1-weight_fill[x][1]),2)\n",
    "#         sim = (pow((weight_1+weight_2)/2,0.5))\n",
    "#         print(\"Rumus Similarity : ( ( 1 + {} ) + ( 1 - {} ) )/2)^0.5\".format(round((weight_1),4),round((weight_2),4)))\n",
    "#         print(\"Similarity : {}\".format(round((sim),4)))\n",
    "#         print(\"===================\")\n",
    "#         ranking.append([x,sim])\n",
    "        \n",
    "#     else:\n",
    "#         print(\"===================\")\n",
    "#         print(\"Dokumen {} : Not Qualified\".format(x+1))\n",
    "#         print(\"===================\")\n",
    "        \n",
    "#     print(\"\\n\")\n",
    "        \n",
    "# ranking.sort(key=lambda row: (row[1]),reverse=True)\n",
    "\n",
    "# increaseNo = 0\n",
    "# print('Ranking')\n",
    "# for file in ranking:\n",
    "#     print('{}.Dokumen ke-{} : [{}]'.format(increaseNo+1,round(ranking[increaseNo][0],4)+1,round(ranking[increaseNo][1],4)))\n",
    "#     increaseNo+=1"
   ]
  },
  {
   "cell_type": "code",
   "execution_count": null,
   "metadata": {},
   "outputs": [],
   "source": []
  },
  {
   "cell_type": "code",
   "execution_count": null,
   "metadata": {},
   "outputs": [],
   "source": []
  }
 ],
 "metadata": {
  "kernelspec": {
   "display_name": "Python 3",
   "language": "python",
   "name": "python3"
  },
  "language_info": {
   "codemirror_mode": {
    "name": "ipython",
    "version": 3
   },
   "file_extension": ".py",
   "mimetype": "text/x-python",
   "name": "python",
   "nbconvert_exporter": "python",
   "pygments_lexer": "ipython3",
   "version": "3.8.8"
  }
 },
 "nbformat": 4,
 "nbformat_minor": 4
}
